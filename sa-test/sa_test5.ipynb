{
 "cells": [
  {
   "cell_type": "code",
   "execution_count": 1,
   "metadata": {},
   "outputs": [],
   "source": [
    "import numpy as np\n",
    "import librosa\n",
    "import librosa.display\n",
    "import matplotlib.pyplot as plt\n",
    "from scipy.signal import get_window\n",
    "import scipy\n",
    "%matplotlib tk\n",
    "from numpy.fft import fft, fftshift\n",
    "from matplotlib import colors as mcolors\n",
    "import colorsys"
   ]
  },
  {
   "cell_type": "code",
   "execution_count": 2,
   "metadata": {},
   "outputs": [],
   "source": [
    "data1, sr1 = librosa.load('./wav/s.wav', sr = None) # /s/ unvoiced 추출\n",
    "data2, sr2 = librosa.load('./wav/a.wav', sr = None) # /a/ voiced 추출\n",
    "\n",
    "length = [64,128,256,512]\n",
    "frame_length = length[0]\n",
    "hop_length = int(frame_length / 2)"
   ]
  },
  {
   "cell_type": "code",
   "execution_count": 3,
   "metadata": {},
   "outputs": [],
   "source": [
    "def hamming_window(data, frame_length):\n",
    "    # Apply hhaming window\n",
    "    hamming = np.hamming(frame_length)\n",
    "    signal = data[frame_length:frame_length + frame_length] * hamming\n",
    "    fft = np.fft.fft(signal,2048)\n",
    "    # fft하면 polar form형태가 되므로 magnitude와 phase로 구분할 수 있다.\n",
    "    magnitude = np.abs(fft)\n",
    "    fft_shift = magnitude[:int(len(magnitude) / 2)]\n",
    "    log_magnitude = 20 * np.log10(fft_shift)\n",
    "    return log_magnitude\n"
   ]
  },
  {
   "cell_type": "code",
   "execution_count": 4,
   "metadata": {},
   "outputs": [],
   "source": [
    "def rectangular_windw(data, frame_length):\n",
    "    # apply hamming window\n",
    "    signal = data[frame_length:frame_length + frame_length]\n",
    "    fft = np.fft.fft(signal,2048)\n",
    "    # fft하면 polar form 형태가 되므로 magnitude와 phase로 구분할 수 있다.\n",
    "    magnitude = np.abs(fft)\n",
    "    fft_shift = magnitude[:int(len(magnitude) / 2)]\n",
    "    log_magnitude = 20 * np.log10(fft_shift)\n",
    "    return log_magnitude"
   ]
  },
  {
   "cell_type": "code",
   "execution_count": 5,
   "metadata": {},
   "outputs": [],
   "source": [
    "hamming_magnitude = hamming_window(data2, frame_length)\n",
    "hamming_magnitude.shape\n",
    "rectangular_magnitude = rectangular_windw(data2, frame_length)"
   ]
  },
  {
   "cell_type": "code",
   "execution_count": 6,
   "metadata": {},
   "outputs": [
    {
     "data": {
      "text/plain": [
       "<matplotlib.legend.Legend at 0x1be2d0ee5e0>"
      ]
     },
     "execution_count": 6,
     "metadata": {},
     "output_type": "execute_result"
    }
   ],
   "source": [
    "freq_axis = np.linspace(0,8000,len(hamming_magnitude))\n",
    "plt.figure(figsize = (14,5))\n",
    "plt.plot( freq_axis,hamming_magnitude, color = 'g', label = 'hamming')\n",
    "plt.xlabel('Frequency [Hz]')\n",
    "plt.ylabel('Magnitude [dB]')\n",
    "plt.title('Window size {}'.format(frame_length))\n",
    "plt.grid(True)\n",
    "plt.xlim(0,8000)\n",
    "plt.plot(freq_axis,rectangular_magnitude, color = 'r', label = 'rectangular')\n",
    "plt.xlabel('Frequency [Hz]')\n",
    "plt.ylabel('Magnitude [dB]')\n",
    "plt.rc('font', size=15)\n",
    "plt.legend()\n"
   ]
  },
  {
   "cell_type": "code",
   "execution_count": 22,
   "metadata": {},
   "outputs": [
    {
     "name": "stdout",
     "output_type": "stream",
     "text": [
      "data length : 129967, rate = 16000\n"
     ]
    }
   ],
   "source": [
    "signal, rate = librosa.load('D:/yonsei/alchemist/220824/RJH_1_enhanced_cut.wav', sr = None)\n",
    "\n",
    "print(f'data length : {len(signal)}, rate = {rate}')\n"
   ]
  },
  {
   "cell_type": "code",
   "execution_count": 23,
   "metadata": {},
   "outputs": [],
   "source": [
    "length = [64,128,256,512]\n",
    "frame_length = length[3]\n",
    "hop_length = int(frame_length / 2)"
   ]
  },
  {
   "cell_type": "code",
   "execution_count": 24,
   "metadata": {},
   "outputs": [],
   "source": [
    "# Plot the spectrogram (magnitude of the STFT) of the whole 연세대학교 signal in various conditions and discuss the results.\n",
    "# STFT 함수\n",
    "def STFT(data, frame_length, hop_length):\n",
    "    L = int(frame_length)\n",
    "    R = int(hop_length)\n",
    "    hamming = np.hamming(int(L))\n",
    "    num_frame = int(len(data) / R) - 1\n",
    "    N = [128,256,512,1024,2048] # Number of uniformly space frequencies across the interval 0<=w<= 2pi\n",
    "    x = np.zeros((num_frame, L))\n",
    "    fft = np.zeros((num_frame,N[4]))\n",
    "    # 일반적으로 dft number는 window length보다 같거나 길어야한다!\n",
    "    # 길면 길수록 frequency resolution이 더 좋아지고 짧으면 time-resolution이 더 좋아지는 trade-off한 관계성을 가진다.\n",
    "    for i in range(num_frame): # windowing을 합시다\n",
    "        # Form the sequence xn[m] = x[n-m]w[m] for m = 0,1,...,L-1\n",
    "        x[i] = data[i * R : i * R + L] * hamming\n",
    "        #x[i] = data[i * R + L: i * R :-1] * hamming\n",
    "        # Compute the complex conjugate of the N-point DFT of the sequence xn[m]\n",
    "        # (This can be done efficiently with an N-point FFT algorithm)\n",
    "        fft[i] = np.fft.fft(x[i],N[4])\n",
    "        # 여기서 fft란? window씌운 time domaing sequence를 frequency domain에서 몇개의 주파수로 sampling할 것인가(나타낼 것인가)\n",
    "        # 이때 fft는 2pi의 주기성을 가지는 polar form(즉 exponential한 주파수 분석결과로 나오기에 magnitude와 phase에 대한 정보가 담긴다)\n",
    "        # 그럼 왜 short time fourier transform을 하느냐?\n",
    "        # 그것은 우리의 음성특징에 기인한다. 일반적으로 우리의 음성은 quasi-stationary한데, 즉 주기성을 갖긴 갖지만 변동성을 가질 수도 있기에\n",
    "        # 준주기적이라고 한다. 따라서 짧은 시간 동안에 분석을 할 때 음성의 특징이 변하지 않는다고 가정하기에 short time으로 주파수분석을\n",
    "        # 하게 된다.\n",
    "    return x ,fft\n",
    "\n",
    "\n"
   ]
  },
  {
   "cell_type": "code",
   "execution_count": 25,
   "metadata": {},
   "outputs": [
    {
     "name": "stdout",
     "output_type": "stream",
     "text": [
      "x shape : (506, 512), fft shape : (506, 2048)\n"
     ]
    },
    {
     "name": "stderr",
     "output_type": "stream",
     "text": [
      "C:\\Users\\yukeun\\AppData\\Local\\Temp\\ipykernel_7308\\1295571383.py:19: ComplexWarning: Casting complex values to real discards the imaginary part\n",
      "  fft[i] = np.fft.fft(x[i],N[4])\n"
     ]
    }
   ],
   "source": [
    "x, fft = STFT(signal, frame_length, hop_length)\n",
    "print(f'x shape : {x.shape}, fft shape : {fft.shape}')\n",
    "# x: time domain windoing 결과\n",
    "# fft : frequency domain dft결과"
   ]
  },
  {
   "cell_type": "code",
   "execution_count": 26,
   "metadata": {},
   "outputs": [
    {
     "data": {
      "text/plain": [
       "(-0.8, 1.0)"
      ]
     },
     "execution_count": 26,
     "metadata": {},
     "output_type": "execute_result"
    }
   ],
   "source": [
    "time = np.linspace(0,len(signal)/rate, len(signal))\n",
    "plt.figure(figsize = (10,3))\n",
    "plt.plot(time,signal)\n",
    "plt.xlabel('time(s)')\n",
    "plt.ylabel('Amplitude')\n",
    "plt.title('Original waveform of yonsei university')\n",
    "plt.grid(True)\n",
    "plt.xlim(0,len(signal)/rate)\n",
    "plt.ylim(-0.8,1)"
   ]
  },
  {
   "cell_type": "code",
   "execution_count": 27,
   "metadata": {},
   "outputs": [
    {
     "name": "stdout",
     "output_type": "stream",
     "text": [
      "fft shape :  (506, 2048)\n",
      "spectrogram shape :  (506, 1024)\n"
     ]
    }
   ],
   "source": [
    "spectrogram = np.abs(fft)\n",
    "fft_shift = spectrogram[:,:int(spectrogram.shape[1]/2)]\n",
    "log_spectrogram = 20*np.log10(fft_shift)\n",
    "print(\"fft shape : \", fft.shape)\n",
    "print(\"spectrogram shape : \", log_spectrogram.shape)"
   ]
  },
  {
   "cell_type": "code",
   "execution_count": 28,
   "metadata": {},
   "outputs": [
    {
     "data": {
      "text/plain": [
       "<matplotlib.colorbar.Colorbar at 0x1be30f57910>"
      ]
     },
     "execution_count": 28,
     "metadata": {},
     "output_type": "execute_result"
    }
   ],
   "source": [
    "time1 = np.linspace(0,len(signal)/ rate,rate)\n",
    "\n",
    "cmap = plt.cm.get_cmap(\"inferno\")\n",
    "\n",
    "plt.figure(figsize=(8,3))\n",
    "\n",
    "plt.imshow(log_spectrogram.T, origin = 'lower', aspect = 'auto', cmap = cmap, extent=[0,len(signal)/rate,0,8000],vmin=-80,vmax=20)\n",
    "plt.xlabel('Time[s]')\n",
    "plt.ylabel('Frequency[Hz]')\n",
    "plt.title('Spectrogram with window size {}'.format(frame_length))\n",
    "plt.colorbar(format = \"%+2.0f dB\")"
   ]
  },
  {
   "cell_type": "code",
   "execution_count": 18,
   "metadata": {},
   "outputs": [
    {
     "data": {
      "text/plain": [
       "Text(0.5, 1.0, 'Spectrogram (dB)')"
      ]
     },
     "execution_count": 18,
     "metadata": {},
     "output_type": "execute_result"
    }
   ],
   "source": [
    "hop_length =512\n",
    "n_fft = 1024\n",
    "\n",
    "hop_length_duration = float(hop_length) / rate\n",
    "n_fft_duration = float(n_fft) / rate\n",
    "\n",
    "stft = librosa.stft(signal, n_fft=n_fft, hop_length=hop_length)\n",
    "\n",
    "magnitude = np.abs(stft)\n",
    "\n",
    "log_spectrogram = librosa.amplitude_to_db(magnitude)\n",
    "\n",
    "plt.figure()\n",
    "librosa.display.specshow(log_spectrogram, sr=rate, hop_length=hop_length, cmap = cmap, vmin=-80,vmax=20)\n",
    "plt.xlabel(\"Time\")\n",
    "plt.ylabel(\"Frequency\")\n",
    "plt.colorbar(format=\"%+2.0f dB\")\n",
    "plt.title(\"Spectrogram (dB)\")"
   ]
  },
  {
   "cell_type": "code",
   "execution_count": null,
   "metadata": {},
   "outputs": [
    {
     "name": "stdout",
     "output_type": "stream",
     "text": [
      "[8, 7, 6, 5, 4, 3, 2, 1]\n"
     ]
    }
   ],
   "source": [
    "temp = [0,1,2,3,4,5,6,7,8,9]\n",
    "a = temp[8:0:-1]\n",
    "print(a)"
   ]
  }
 ],
 "metadata": {
  "kernelspec": {
   "display_name": "Python 3.9.12 ('yukeun')",
   "language": "python",
   "name": "python3"
  },
  "language_info": {
   "codemirror_mode": {
    "name": "ipython",
    "version": 3
   },
   "file_extension": ".py",
   "mimetype": "text/x-python",
   "name": "python",
   "nbconvert_exporter": "python",
   "pygments_lexer": "ipython3",
   "version": "3.9.12"
  },
  "orig_nbformat": 4,
  "vscode": {
   "interpreter": {
    "hash": "a0a76ed8373ec3849b56f8fc7d1b14a1f645ac30fd7732d4693796f99fa97f15"
   }
  }
 },
 "nbformat": 4,
 "nbformat_minor": 2
}
