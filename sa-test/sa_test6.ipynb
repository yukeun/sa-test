{
 "cells": [
  {
   "cell_type": "code",
   "execution_count": 134,
   "metadata": {},
   "outputs": [],
   "source": [
    "import numpy as np\n",
    "import librosa\n",
    "import librosa.display\n",
    "import matplotlib.pyplot as plt\n",
    "%matplotlib tk\n",
    "from scipy.fftpack import dct"
   ]
  },
  {
   "cell_type": "code",
   "execution_count": 380,
   "metadata": {},
   "outputs": [
    {
     "name": "stdout",
     "output_type": "stream",
     "text": [
      "data length = 29684, sr = 16000\n"
     ]
    }
   ],
   "source": [
    "data, sr = librosa.load('./wav/yonsei.wav', sr = None)\n",
    "print(f'data length = {len(data)}, sr = {sr}')"
   ]
  },
  {
   "cell_type": "code",
   "execution_count": 398,
   "metadata": {},
   "outputs": [
    {
     "name": "stdout",
     "output_type": "stream",
     "text": [
      "frame length = 512, hop_length = 256, num_frame = 114\n"
     ]
    }
   ],
   "source": [
    "frame_length = 512\n",
    "#frame_length = int(20/1000 * sr)\n",
    "#hop_length = int(10/1000 * sr)\n",
    "hop_length = 256\n",
    "num_frame = int(len(data) / hop_length) - 1\n",
    "\n",
    "print(f'frame length = {frame_length}, hop_length = {hop_length}, num_frame = {num_frame}')"
   ]
  },
  {
   "cell_type": "code",
   "execution_count": 399,
   "metadata": {},
   "outputs": [],
   "source": [
    "def DFT(data, frame_length):\n",
    "    L = frame_length + 1\n",
    "    R = int(L / 2)\n",
    "    N = frame_length\n",
    "    num_frame = int(len(data) / R) - 1\n",
    "    hamming = np.hamming(L)\n",
    "    time_signal = np.zeros((num_frame, L))\n",
    "    freq_signal = np.zeros((num_frame, 1025))\n",
    "    for i in range(num_frame):\n",
    "        time_signal[i] = data[i * R : i * R + L] * hamming\n",
    "        freq_signal[i] = np.fft.rfft(time_signal[i],2048)\n",
    "        \n",
    "    return time_signal, freq_signal\n"
   ]
  },
  {
   "cell_type": "code",
   "execution_count": 400,
   "metadata": {},
   "outputs": [
    {
     "name": "stdout",
     "output_type": "stream",
     "text": [
      "freq_signal.shape = (114, 1025)\n"
     ]
    },
    {
     "name": "stderr",
     "output_type": "stream",
     "text": [
      "C:\\Users\\yukeun\\AppData\\Local\\Temp\\ipykernel_9108\\2121110319.py:11: ComplexWarning: Casting complex values to real discards the imaginary part\n",
      "  freq_signal[i] = np.fft.rfft(time_signal[i],2048)\n"
     ]
    }
   ],
   "source": [
    "time_signal, freq_signal = DFT(data, frame_length)\n",
    "print(f'freq_signal.shape = {freq_signal.shape}')"
   ]
  },
  {
   "cell_type": "code",
   "execution_count": 401,
   "metadata": {},
   "outputs": [
    {
     "name": "stdout",
     "output_type": "stream",
     "text": [
      "freq_siganl.shape : (114, 1025)\n",
      "spectrogram.shape : (114, 1025)\n"
     ]
    }
   ],
   "source": [
    "#freq_signal = freq_signal[:,:int(freq_signal.shape[1]/2) + 1]\n",
    "print(f'freq_siganl.shape : {freq_signal.shape}')\n",
    "spectrogram = np.abs(freq_signal)\n",
    "print(f'spectrogram.shape : {spectrogram.shape}')\n"
   ]
  },
  {
   "cell_type": "code",
   "execution_count": 402,
   "metadata": {},
   "outputs": [
    {
     "name": "stdout",
     "output_type": "stream",
     "text": [
      "Mel filterbank shape : (80, 1025)\n"
     ]
    }
   ],
   "source": [
    "# Mel filterbank형성\n",
    "mel_fb = librosa.filters.mel(sr = sr, n_fft = 2048,n_mels =80)\n",
    "# return 값 : M = np.ndarray [shape=(n_mels, 1 + n_fft/2)] Mel transform matrix\n",
    "print(f'Mel filterbank shape : {mel_fb.shape}')"
   ]
  },
  {
   "cell_type": "code",
   "execution_count": 404,
   "metadata": {},
   "outputs": [
    {
     "data": {
      "text/plain": [
       "<matplotlib.colorbar.Colorbar at 0x2567783a7f0>"
      ]
     },
     "execution_count": 404,
     "metadata": {},
     "output_type": "execute_result"
    }
   ],
   "source": [
    "# Test용 Mel filtergram plotting하기\n",
    "fig, ax = plt.subplots()\n",
    "'''subplots()에선 두개의 값을 받을 수 있는데 figure 와 axes 값을 받을 수 있다.\n",
    "여기서 변수명은 상관없다. 순서가 중요하다\n",
    "fig란 figure로써 - 전체 subplot을 말한다. ex) 서브플로안에 몇개의 그래프가 있던지 상관없이  그걸 담는 하나.\n",
    " 전체 사이즈를 말한다.\n",
    "ax는 axe로써 - 전체 중 낱낱개를 말한다 ex) 서브플롯 안에 2개(a1,a2)의 그래프가 있다면 a1, a2 를 일컬음'''\n",
    "img = librosa.display.specshow(mel_fb, x_axis='linear', ax=ax)\n",
    "ax.set(ylabel='Mel filter', title='Mel filter bank')\n",
    "fig.colorbar(img, ax=ax)"
   ]
  },
  {
   "cell_type": "code",
   "execution_count": 405,
   "metadata": {},
   "outputs": [
    {
     "data": {
      "text/plain": [
       "(0.0, 1025.0)"
      ]
     },
     "execution_count": 405,
     "metadata": {},
     "output_type": "execute_result"
    }
   ],
   "source": [
    "plt.figure(figsize=(15,4))\n",
    "for n in range(mel_fb.shape[0]):\n",
    "    plt.plot(mel_fb[n])\n",
    "plt.xlabel('Frequency [Hz]')\n",
    "plt.ylabel('Mel-filterbank coefficients')\n",
    "plt.title('Mel-filterbank function')\n",
    "plt.xlim(0,mel_fb.shape[1])"
   ]
  },
  {
   "cell_type": "code",
   "execution_count": 406,
   "metadata": {},
   "outputs": [
    {
     "name": "stdout",
     "output_type": "stream",
     "text": [
      "db_spectrogram.shape = (114, 80)\n"
     ]
    },
    {
     "data": {
      "text/plain": [
       "<matplotlib.colorbar.Colorbar at 0x256796719a0>"
      ]
     },
     "execution_count": 406,
     "metadata": {},
     "output_type": "execute_result"
    }
   ],
   "source": [
    "mel_spectrogram = np.dot(spectrogram, mel_fb.T)\n",
    "db_spectrogram = 20 * np.log10(abs(mel_spectrogram))\n",
    "time1 = np.linspace(0,len(data)/ sr,sr)\n",
    "\n",
    "cmap = plt.cm.get_cmap(\"jet\")\n",
    "print(f'db_spectrogram.shape = {db_spectrogram.shape}')\n",
    "\n",
    "plt.figure(figsize=(14,8))\n",
    "\n",
    "plt.imshow(db_spectrogram.T, origin = 'lower', aspect = 'auto', cmap = cmap, extent=[0,len(data)/sr,0,8000])\n",
    "plt.xlabel('Time[s]')\n",
    "plt.ylabel('Frequency[Hz]')\n",
    "plt.colorbar(format = \"%+2.0f dB\")"
   ]
  },
  {
   "cell_type": "code",
   "execution_count": 144,
   "metadata": {},
   "outputs": [
    {
     "name": "stdout",
     "output_type": "stream",
     "text": [
      "(184, 1025)\n",
      "power_spectrogram : (184, 1025)\n"
     ]
    }
   ],
   "source": [
    "# Version 1 : power spectrogram을 먼저구한다.\n",
    "# power spectrogram (power periodogram)\n",
    "power = np.zeros((num_frame, freq_signal.shape[1]))\n",
    "for i in range(num_frame):\n",
    "    power[i] = np.array(abs(freq_signal[i]) ** 2) / (freq_signal.shape[1]) # normalize\n",
    "print(power.shape)\n",
    "\n",
    "#power_spectrogram = power[:,:int(frame_length/2)+ 1]\n",
    "print(f'power_spectrogram : {power.shape}')\n",
    "\n",
    "# mel filter와 power 간에 행렬곱을 실시한다. => np.dot"
   ]
  },
  {
   "cell_type": "code",
   "execution_count": 407,
   "metadata": {},
   "outputs": [
    {
     "name": "stdout",
     "output_type": "stream",
     "text": [
      "mel.shape : (114, 80)\n"
     ]
    }
   ],
   "source": [
    " # Version 2 # power spectrogram을 나중에 구한다\n",
    "def Melfilter(freq_sigal,mel_fb,n_filter,num_frame):\n",
    "    R = n_filter\n",
    "    A = np.zeros(R)\n",
    "    mel = np.zeros((num_frame, R))\n",
    "    for r in range (R):\n",
    "        summation = 0\n",
    "        for k in range(mel_fb.shape[1]):\n",
    "           summation += abs(mel_fb[r][k]) ** 2\n",
    "        A[r] = summation\n",
    "     # normalize the mf\n",
    "    for m in range(freq_signal.shape[0]):\n",
    "        for r in range (R):\n",
    "            summation = 0\n",
    "            for k in range(mel_fb.shape[1]):\n",
    "                summation += abs(mel_fb[r][k] * freq_signal[m][k]) ** 2\n",
    "            mel[m][r] = (1/A[r]) * summation\n",
    "    return mel\n",
    "\n",
    "mel = Melfilter(spectrogram, mel_fb, 80, num_frame)\n",
    "print(f'mel.shape : {mel.shape}')"
   ]
  },
  {
   "cell_type": "code",
   "execution_count": 408,
   "metadata": {},
   "outputs": [],
   "source": [
    "time1 = np.linspace(0,len(data)/ sr,sr)\n",
    "\n",
    "cmap = plt.cm.get_cmap(\"jet\")\n",
    "\n",
    "plt.figure(figsize=(8,3))\n",
    "\n",
    "plt.imshow(20 * np.log10(mel.T + 1e-12), origin = 'lower', aspect = 'auto', cmap = cmap, extent=[0,len(data)/sr,0,8000])\n",
    "plt.xlabel('Time[s]')\n",
    "plt.title('Melspectrogram')\n",
    "plt.ylabel('Frequency[Hz]')\n",
    "plt.rc('font', size=13)\n",
    "plt.colorbar(format = \"%+2.0f dB\")\n",
    "plt.show()"
   ]
  },
  {
   "cell_type": "code",
   "execution_count": 409,
   "metadata": {},
   "outputs": [],
   "source": [
    "# Calculate MFCC\n",
    "def cal_MFCC(mel,num_frame):\n",
    "    N = 12 # num of mfcc coefficients\n",
    "    R = 80\n",
    "    mfcc = np.zeros((num_frame, N))\n",
    "    for i in range(num_frame):\n",
    "        for n in range(N):\n",
    "            summation = 0\n",
    "            for r in range(R):\n",
    "                summation += np.log10(mel[i][r])* np.cos(((np.pi) / R) * (r + 1/2) * n)\n",
    "            mfcc[i][n] =  summation\n",
    "    return mfcc"
   ]
  },
  {
   "cell_type": "code",
   "execution_count": 410,
   "metadata": {},
   "outputs": [
    {
     "name": "stdout",
     "output_type": "stream",
     "text": [
      "mfcc shape : (114, 12)\n"
     ]
    }
   ],
   "source": [
    "mfcc = cal_MFCC(mel,num_frame)\n",
    "print(f'mfcc shape : {mfcc.shape}')"
   ]
  },
  {
   "cell_type": "code",
   "execution_count": 411,
   "metadata": {},
   "outputs": [
    {
     "data": {
      "text/plain": [
       "<matplotlib.colorbar.Colorbar at 0x25680b31f10>"
      ]
     },
     "execution_count": 411,
     "metadata": {},
     "output_type": "execute_result"
    }
   ],
   "source": [
    "# Plot mfcc\n",
    "\n",
    "time1 = np.linspace(0,len(data)/ sr,sr)\n",
    "\n",
    "cmap = plt.cm.get_cmap(\"jet\")\n",
    "\n",
    "plt.figure(figsize=(8,3))\n",
    "\n",
    "plt.imshow(mfcc.T, origin = 'lower', aspect = 'auto', cmap = cmap,interpolation = None, \n",
    "            extent=[0,len(data)/sr,0,mfcc.shape[1]],vmin = -550, vmax = 180)\n",
    "plt.xlabel('Time[s]')\n",
    "plt.title('MFCC')\n",
    "plt.rc('font', size=13)\n",
    "plt.ylabel('Cepstrum coefficient')\n",
    "plt.colorbar()"
   ]
  },
  {
   "cell_type": "code",
   "execution_count": 334,
   "metadata": {},
   "outputs": [
    {
     "data": {
      "text/plain": [
       "<matplotlib.colorbar.Colorbar at 0x2566aa91af0>"
      ]
     },
     "execution_count": 334,
     "metadata": {},
     "output_type": "execute_result"
    }
   ],
   "source": [
    "mfccs = librosa.feature.mfcc(y=data, sr=sr, n_mfcc=12, n_fft = 2048, n_mels = 80, hop_length = 160, win_length = 320)\n",
    "plt.figure(figsize=(8,3))\n",
    "plt.imshow(mfccs, origin = 'lower', aspect = 'auto', cmap = cmap, interpolation = None,extent=[0,len(data)/sr,0,12])\n",
    "plt.xlabel('Time[s]')\n",
    "plt.ylabel('Cepstrum coefficient')\n",
    "plt.title('MFCC')\n",
    "plt.rc('font', size=13)\n",
    "plt.colorbar()"
   ]
  },
  {
   "cell_type": "code",
   "execution_count": 325,
   "metadata": {},
   "outputs": [
    {
     "data": {
      "text/plain": [
       "(0.0, 3061.2737063000363)"
      ]
     },
     "execution_count": 325,
     "metadata": {},
     "output_type": "execute_result"
    }
   ],
   "source": [
    "# plot the melscale\n",
    "mel_scale = np.zeros(10000)\n",
    "for i in range(10000):\n",
    "    mel_scale[i] = 2585 * np.log10(1+ (i/700))\n",
    "\n",
    "plt.figure(figsize = (8,8))\n",
    "plt.plot(mel_scale)\n",
    "plt.xlabel('Frequency [Hz]')\n",
    "plt.ylabel('Mel scale')\n",
    "plt.title('Mel Function')\n",
    "plt.grid(True)\n",
    "plt.xlim(0,10000)\n",
    "plt.rc('font', size=13)\n",
    "plt.ylim(0,mel_scale[9999])\n"
   ]
  }
 ],
 "metadata": {
  "kernelspec": {
   "display_name": "Python 3.9.12 ('yukeun')",
   "language": "python",
   "name": "python3"
  },
  "language_info": {
   "codemirror_mode": {
    "name": "ipython",
    "version": 3
   },
   "file_extension": ".py",
   "mimetype": "text/x-python",
   "name": "python",
   "nbconvert_exporter": "python",
   "pygments_lexer": "ipython3",
   "version": "3.9.12"
  },
  "orig_nbformat": 4,
  "vscode": {
   "interpreter": {
    "hash": "a0a76ed8373ec3849b56f8fc7d1b14a1f645ac30fd7732d4693796f99fa97f15"
   }
  }
 },
 "nbformat": 4,
 "nbformat_minor": 2
}
