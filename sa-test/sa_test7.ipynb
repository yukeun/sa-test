{
 "cells": [
  {
   "cell_type": "code",
   "execution_count": 182,
   "metadata": {},
   "outputs": [],
   "source": [
    "import numpy as np\n",
    "import os\n",
    "import matplotlib.pyplot as plt\n",
    "import librosa\n",
    "import scipy\n",
    "from scipy.linalg import solve_toeplitz, toeplitz\n",
    "%matplotlib tk"
   ]
  },
  {
   "cell_type": "code",
   "execution_count": 183,
   "metadata": {},
   "outputs": [
    {
     "name": "stdout",
     "output_type": "stream",
     "text": [
      "data length : 7988, sr : 16000\n"
     ]
    }
   ],
   "source": [
    "## Load data\n",
    "data, sr = librosa.load('./wav/sa.wav', sr = None)\n",
    "\n",
    "print(f'data length : {len(data)}, sr : {sr}')\n"
   ]
  },
  {
   "cell_type": "code",
   "execution_count": 184,
   "metadata": {},
   "outputs": [
    {
     "name": "stdout",
     "output_type": "stream",
     "text": [
      "win_length = 320, hop_length = 160, num_frame = 48\n"
     ]
    }
   ],
   "source": [
    "win_length  = int(20/1000 * sr)\n",
    "hop_length = int(win_length / 2)\n",
    "num_frame = int(len(data) / hop_length) - 1\n",
    "\n",
    "print(f'win_length = {win_length}, hop_length = {hop_length}, num_frame = {num_frame}')"
   ]
  },
  {
   "cell_type": "code",
   "execution_count": 185,
   "metadata": {},
   "outputs": [],
   "source": [
    "## plot wavefile\n",
    "plt.figure(figsize=(14,5))\n",
    "time = np.linspace(0,len(data)/16000, len(data))\n",
    "plt.plot(time,data)\n",
    "plt.xlim(0,len(data)/sr)\n",
    "plt.ylim(-1,1)\n",
    "plt.grid(True)\n",
    "plt.xlabel('Time [s]')\n",
    "plt.ylabel('Amplitude')\n",
    "plt.title('Waveform of sa.wav')\n",
    "plt.rc('font', size=15)\n"
   ]
  },
  {
   "cell_type": "code",
   "execution_count": 186,
   "metadata": {},
   "outputs": [],
   "source": [
    "### Note : LPC is obtained from the windowed frame while the residual signal is obtained without windowing"
   ]
  },
  {
   "cell_type": "code",
   "execution_count": 187,
   "metadata": {},
   "outputs": [
    {
     "name": "stdout",
     "output_type": "stream",
     "text": [
      "(48, 320)\n"
     ]
    }
   ],
   "source": [
    "## Data frame화\n",
    "# 1. window 설정 => Hamming window\n",
    "window = np.hamming(320)\n",
    "w = win_length\n",
    "h = hop_length\n",
    "num_frames = num_frame\n",
    "\n",
    "windowed_data = np.zeros((num_frames,w))\n",
    "for i in range(num_frames):\n",
    "        windowed_data[i] = data[i * h : i * h + w] * window\n",
    "print(windowed_data.shape)"
   ]
  },
  {
   "cell_type": "code",
   "execution_count": 188,
   "metadata": {},
   "outputs": [],
   "source": [
    "## autocorrelation 함수 설정\n",
    "\n",
    "def autocorrelation(data, k):\n",
    "    if k == 0:\n",
    "        return np.sum(data ** 2)\n",
    "    else:\n",
    "        return np.sum(data[k:] * data[:-k])    "
   ]
  },
  {
   "cell_type": "code",
   "execution_count": 189,
   "metadata": {},
   "outputs": [],
   "source": [
    "## Levinson durbin algorithm\n",
    "\n",
    "def Levinson_Durbin(frame_signal, p):\n",
    "    # 각 frame별로 levinson_durbin을 구해보자\n",
    "    # 즉, 각 frame별로 LPC를 구해보자\n",
    "    # signal : sampling된 data\n",
    "    # p : pth order\n",
    "    # The Toeplitz matrix has constant diagonals, with c as its first column and r as its first row.\n",
    "    # Right-hand side in T x = b.\n",
    "    column = row = [autocorrelation(frame_signal,i) for i in range(p)]\n",
    "    b = [autocorrelation(frame_signal,i) for i in range(1,p+1)] # (1 <=i <= p)이므로\n",
    "    # Reuturn x\n",
    "    # x : coefficients a[1],a[2],a[3],...,a[k] 즉 lpc(linear prediction coefficients)\n",
    "    x = solve_toeplitz((column, row), b)\n",
    "    return x\n"
   ]
  },
  {
   "cell_type": "code",
   "execution_count": 190,
   "metadata": {},
   "outputs": [
    {
     "name": "stdout",
     "output_type": "stream",
     "text": [
      "[ 0.2947044   0.93549622  0.08685609 -0.48439713 -0.04616732]\n"
     ]
    }
   ],
   "source": [
    "print(Levinson_Durbin(windowed_data[3],5))\n",
    "# Levinson_Durbin(windowded_data[n],p)\n",
    "# >>> LPC shape : (1,p)"
   ]
  },
  {
   "cell_type": "code",
   "execution_count": 191,
   "metadata": {},
   "outputs": [],
   "source": [
    "def residual(windowed_data, p):\n",
    "    \n",
    "    LPC = Levinson_Durbin(windowed_data,p)\n",
    "    # >>> LPC shape : (1,p)\n",
    "    win_length = len(windowed_data)\n",
    "    # >>> win_length: 320\n",
    "    prediction = np.zeros((win_length))\n",
    "    # prediction : 예측치\n",
    "    # >>> prediction shape : (1, 320)\n",
    "    \n",
    "    for k in range(win_length):\n",
    "        for j in LPC:\n",
    "            prediction[k] += j * windowed_data[k]\n",
    "    \n",
    "        \n",
    "    error = windowed_data - prediction\n",
    "    return prediction, error"
   ]
  },
  {
   "cell_type": "code",
   "execution_count": 192,
   "metadata": {},
   "outputs": [],
   "source": [
    "def predict(data, windowed_data, win_length, p):\n",
    "    W = win_length\n",
    "    H = int(win_length / 2)\n",
    "    nF = int(len(data) / hop_length) - 1\n",
    "    \n",
    "    # 프레임 => 전체\n",
    "    total_pred = np.zeros((len(data)))\n",
    "    total_err =  np.zeros((len(data)))\n",
    "   \n",
    "    for n in range(nF):\n",
    "        \n",
    "        predict, error = residual(windowed_data[n],p)\n",
    "        \n",
    "        total_pred[n * H : n * H + W] += predict\n",
    "        total_err[n * H : n * H + W] += error\n",
    "        \n",
    "    return total_pred, total_err "
   ]
  },
  {
   "cell_type": "code",
   "execution_count": 209,
   "metadata": {},
   "outputs": [],
   "source": [
    "## plot the LPC\n",
    "# LPC order = 32\n",
    "time_axis = np.linspace(0,len(data) / sr, len(data))\n",
    "total_pred, total_err = predict(data, windowed_data, win_length, 32)"
   ]
  },
  {
   "cell_type": "code",
   "execution_count": 210,
   "metadata": {},
   "outputs": [],
   "source": [
    "plt.figure(figsize = (14,5))\n",
    "plt.plot(time_axis, data, label = 'Original waveform', color = 'g') # Original data\n",
    "\n",
    "plt.plot(time_axis, total_pred, '--', color = 'r', label = 'Prediction waveform') \n",
    "plt.xlim(0.2,0.3)\n",
    "plt.ylim(-1,1.1)\n",
    "plt.grid(True)\n",
    "plt.xlabel('Time [s]')\n",
    "plt.ylabel('Amplitude')\n",
    "plt.title('<Original waveform and Prediction waveform>')\n",
    "plt.legend()\n",
    "plt.rc('font', size=15)"
   ]
  },
  {
   "cell_type": "code",
   "execution_count": 211,
   "metadata": {},
   "outputs": [],
   "source": [
    "## plot error\n",
    "plt.figure(figsize = (14,5))\n",
    "# plt.plot(time_axis, data, label = 'Original waveform', color = 'g') # Original data\n",
    "\n",
    "plt.plot(time_axis, total_err, color = 'r', label = 'error waveform') \n",
    "plt.xlim(0.2,0.3)\n",
    "plt.ylim(-0.1,0.1)\n",
    "plt.grid(True)\n",
    "plt.xlabel('Time [s]')\n",
    "plt.ylabel('Amplitude')\n",
    "plt.title('Error waveform ')\n",
    "plt.legend()\n",
    "plt.rc('font', size=15)"
   ]
  },
  {
   "cell_type": "code",
   "execution_count": 214,
   "metadata": {},
   "outputs": [],
   "source": [
    "def TF_spectrum(signal, window, sr, p):\n",
    "    \n",
    "    plt.figure(figsize=(14,5))\n",
    "    win_sig = signal*window\n",
    "    LPC = Levinson_Durbin(win_sig, p) # LPC 계산, shape : (1,32)\n",
    "    #LPC_negative = np.ones((p)) - LPC\n",
    "    LPC_negative = np.insert(-LPC, 0, 1) # 분모에서 1-LPC임\n",
    "    print(LPC_negative)\n",
    "    G_square = np.array(autocorrelation(win_sig,0)) - np.sum(LPC * [autocorrelation(win_sig, i) for i in range(1,p+1)]) # Voiced Gain\n",
    "    G = G_square ** (1/2) # Voiced Gain\n",
    "    print(f'G : {G}')\n",
    "    axis = np.linspace(0,sr/2,1024)\n",
    "    _, h2 = scipy.signal.freqz(G, LPC_negative, worN=1024, fs = sr) # frequency response 계산 패키지\n",
    "        \n",
    "    fft_signal = np.fft.rfft(win_sig,2048)\n",
    "    plt.plot(axis,20*np.log(abs(fft_signal[1:])),label = 'Signal spectrum')  \n",
    "    plt.plot(axis,20*np.log(abs(h2)),label = 'Frequency response')\n",
    "    plt.xlim(0,sr/2)\n",
    "    plt.xlabel('Frequency [Hz]')\n",
    "    plt.ylabel('Magnitude [dB]')\n",
    "    plt.title('Spectrum of transfer function, order: {}'.format(p))\n",
    "    plt.legend()\n",
    "    plt.grid(True)\n",
    "    plt.rc('font', size=15)\n",
    "    plt.show()"
   ]
  },
  {
   "cell_type": "code",
   "execution_count": 215,
   "metadata": {},
   "outputs": [
    {
     "name": "stdout",
     "output_type": "stream",
     "text": [
      "[ 1.         -1.19112077  0.24872118 -0.37458158  0.74612534 -0.6039218\n",
      "  0.70518775 -0.42578614  0.34307818 -0.43350365  0.36048256 -0.60038652\n",
      "  0.27108208 -0.02357374  0.52842301 -0.39281625  0.20868371 -0.33640164\n",
      "  0.06819228 -0.35285473  0.61196314 -0.39611643  0.37287882 -0.37892975\n",
      "  0.39028345 -0.42635105  0.29862489 -0.3368354   0.210684   -0.00733479\n",
      "  0.1802712  -0.30784302  0.10289315]\n",
      "G : 0.16111252472591203\n"
     ]
    }
   ],
   "source": [
    "# Unvoiced\n",
    "\n",
    "TF_spectrum(data[2600:2920], np.hamming(320),sr,32)"
   ]
  },
  {
   "cell_type": "code",
   "execution_count": 198,
   "metadata": {},
   "outputs": [
    {
     "name": "stdout",
     "output_type": "stream",
     "text": [
      "[ 1.         -2.62897716  2.27156133 -0.47864984 -0.28005451  0.37546316\n",
      " -0.30775166 -0.06044603  0.23859587 -0.11481829 -0.06634529 -0.11806366\n",
      "  0.48405099 -0.52840015  0.58003121 -0.54238199  0.17884317  0.02287139\n",
      " -0.10865381  0.18283037 -0.00597756 -0.14430679  0.11445437 -0.16597672\n",
      "  0.29970156 -0.32700959  0.15825248 -0.07892467  0.23342734 -0.16777219\n",
      " -0.09690993  0.12565699 -0.02386404]\n",
      "G : 0.09457373203575571\n"
     ]
    }
   ],
   "source": [
    "# voiced\n",
    "TF_spectrum(data[3520:3840], np.hamming(320),sr,32)"
   ]
  }
 ],
 "metadata": {
  "kernelspec": {
   "display_name": "Python 3.9.12 ('yukeun')",
   "language": "python",
   "name": "python3"
  },
  "language_info": {
   "codemirror_mode": {
    "name": "ipython",
    "version": 3
   },
   "file_extension": ".py",
   "mimetype": "text/x-python",
   "name": "python",
   "nbconvert_exporter": "python",
   "pygments_lexer": "ipython3",
   "version": "3.9.12"
  },
  "orig_nbformat": 4,
  "vscode": {
   "interpreter": {
    "hash": "a0a76ed8373ec3849b56f8fc7d1b14a1f645ac30fd7732d4693796f99fa97f15"
   }
  }
 },
 "nbformat": 4,
 "nbformat_minor": 2
}
